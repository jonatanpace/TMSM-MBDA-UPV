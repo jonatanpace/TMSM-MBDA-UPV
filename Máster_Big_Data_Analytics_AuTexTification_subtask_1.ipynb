{
  "cells": [
    {
      "attachments": {},
      "cell_type": "markdown",
      "metadata": {
        "id": "zWq2JehvVWk_"
      },
      "source": [
        "## Carga de librerías"
      ]
    },
    {
      "cell_type": "code",
      "execution_count": 167,
      "metadata": {
        "id": "IOeuT-veRm09"
      },
      "outputs": [],
      "source": [
        "import pandas as pd\n",
        "import gdown\n",
        "from joblib import dump\n",
        "import warnings\n",
        "warnings.filterwarnings('ignore')\n",
        "import numpy as np\n",
        "\n",
        "from sklearn.model_selection import train_test_split\n",
        "from sklearn.feature_extraction.text import TfidfVectorizer\n",
        "from sklearn.feature_extraction.text import CountVectorizer\n",
        "from sklearn.linear_model import LogisticRegression\n",
        "from sklearn import svm\n",
        "from sklearn.model_selection import GridSearchCV\n",
        "from sklearn.metrics import confusion_matrix, classification_report, f1_score"
      ]
    },
    {
      "attachments": {},
      "cell_type": "markdown",
      "metadata": {
        "id": "4rdBt5IxQfzj"
      },
      "source": [
        "## Descarga del corpus"
      ]
    },
    {
      "cell_type": "code",
      "execution_count": 2,
      "metadata": {
        "colab": {
          "base_uri": "https://localhost:8080/"
        },
        "id": "Sv4fvRiEQJbn",
        "outputId": "e9bacb37-e726-457c-d88e-3effa75256d0"
      },
      "outputs": [
        {
          "name": "stderr",
          "output_type": "stream",
          "text": [
            "Retrieving folder list\n"
          ]
        },
        {
          "name": "stdout",
          "output_type": "stream",
          "text": [
            "Retrieving folder 1a1tYlGlQmadf7zsYz3PPnTrplSHjM8lU subtask_1\n",
            "Retrieving folder 12Fe7jpVeenEZGckFFQQA7-CVgPMBMIK3 en\n",
            "Processing file 1dQxym7dPsw38VStCYPqsKGByDuq06XPY test.tsv\n",
            "Processing file 1syrlebhgbvTg9tCZ-S2MOpwhFBNtGXXD train.tsv\n",
            "Retrieving folder 1qQoUs57x_G1O-lP_OMPuuLlD_1TF-WoI es\n",
            "Processing file 1DL0MZB8St7yAmsh70Y3sH8NQaoSzdZYs test.tsv\n",
            "Processing file 1r6hAZp3mPldfhhKHrIMgQ33HiwzvB5O3 train.tsv\n",
            "Retrieving folder 1m4yAowbTXz_IBvNRHOuDGQqZnza298Qd subtask_2\n",
            "Retrieving folder 1_nNywlj-RYMW1tfkFVoEDLJLcVWNX9a6 en\n",
            "Processing file 1-MEoYsUqdub_zTt8O6-9fGQtdSQloGHA test.tsv\n",
            "Processing file 1nLCyHGDs8PiS15ZkwtCQ0_GscFhvR5RB train.tsv\n",
            "Retrieving folder 1dwAWhHaWVaoiptD-JR0rL98XHJ04gbLP es\n",
            "Processing file 1efLhja6Lr5B3ALu_X19ULpzYVj-8TN3Q test.tsv\n",
            "Processing file 1F5mhR6tIRZCHhCwvzSEwXiEytNrpc6W9 train.tsv\n",
            "Building directory structure completed\n"
          ]
        },
        {
          "name": "stderr",
          "output_type": "stream",
          "text": [
            "Retrieving folder list completed\n",
            "Building directory structure\n",
            "Downloading...\n",
            "From: https://drive.google.com/uc?id=1dQxym7dPsw38VStCYPqsKGByDuq06XPY\n",
            "To: c:\\Users\\jonatan.pace\\Documents\\mbda-autex\\AuTexTificationDataset\\subtask_1\\en\\test.tsv\n",
            "100%|██████████| 7.92M/7.92M [00:01<00:00, 6.27MB/s]\n",
            "Downloading...\n",
            "From: https://drive.google.com/uc?id=1syrlebhgbvTg9tCZ-S2MOpwhFBNtGXXD\n",
            "To: c:\\Users\\jonatan.pace\\Documents\\mbda-autex\\AuTexTificationDataset\\subtask_1\\en\\train.tsv\n",
            "100%|██████████| 13.1M/13.1M [00:02<00:00, 4.86MB/s]\n",
            "Downloading...\n",
            "From: https://drive.google.com/uc?id=1DL0MZB8St7yAmsh70Y3sH8NQaoSzdZYs\n",
            "To: c:\\Users\\jonatan.pace\\Documents\\mbda-autex\\AuTexTificationDataset\\subtask_1\\es\\test.tsv\n",
            "100%|██████████| 7.80M/7.80M [00:01<00:00, 4.17MB/s]\n",
            "Downloading...\n",
            "From: https://drive.google.com/uc?id=1r6hAZp3mPldfhhKHrIMgQ33HiwzvB5O3\n",
            "To: c:\\Users\\jonatan.pace\\Documents\\mbda-autex\\AuTexTificationDataset\\subtask_1\\es\\train.tsv\n",
            "100%|██████████| 12.8M/12.8M [00:02<00:00, 5.27MB/s]\n",
            "Downloading...\n",
            "From: https://drive.google.com/uc?id=1-MEoYsUqdub_zTt8O6-9fGQtdSQloGHA\n",
            "To: c:\\Users\\jonatan.pace\\Documents\\mbda-autex\\AuTexTificationDataset\\subtask_2\\en\\test.tsv\n",
            "100%|██████████| 1.96M/1.96M [00:00<00:00, 4.89MB/s]\n",
            "Downloading...\n",
            "From: https://drive.google.com/uc?id=1nLCyHGDs8PiS15ZkwtCQ0_GscFhvR5RB\n",
            "To: c:\\Users\\jonatan.pace\\Documents\\mbda-autex\\AuTexTificationDataset\\subtask_2\\en\\train.tsv\n",
            "100%|██████████| 10.5M/10.5M [00:02<00:00, 4.65MB/s]\n",
            "Downloading...\n",
            "From: https://drive.google.com/uc?id=1efLhja6Lr5B3ALu_X19ULpzYVj-8TN3Q\n",
            "To: c:\\Users\\jonatan.pace\\Documents\\mbda-autex\\AuTexTificationDataset\\subtask_2\\es\\test.tsv\n",
            "100%|██████████| 1.97M/1.97M [00:00<00:00, 3.93MB/s]\n",
            "Downloading...\n",
            "From: https://drive.google.com/uc?id=1F5mhR6tIRZCHhCwvzSEwXiEytNrpc6W9\n",
            "To: c:\\Users\\jonatan.pace\\Documents\\mbda-autex\\AuTexTificationDataset\\subtask_2\\es\\train.tsv\n",
            "100%|██████████| 11.2M/11.2M [00:02<00:00, 4.39MB/s]\n",
            "Download completed\n"
          ]
        },
        {
          "data": {
            "text/plain": [
              "['c:\\\\Users\\\\jonatan.pace\\\\Documents\\\\mbda-autex\\\\AuTexTificationDataset\\\\subtask_1\\\\en\\\\test.tsv',\n",
              " 'c:\\\\Users\\\\jonatan.pace\\\\Documents\\\\mbda-autex\\\\AuTexTificationDataset\\\\subtask_1\\\\en\\\\train.tsv',\n",
              " 'c:\\\\Users\\\\jonatan.pace\\\\Documents\\\\mbda-autex\\\\AuTexTificationDataset\\\\subtask_1\\\\es\\\\test.tsv',\n",
              " 'c:\\\\Users\\\\jonatan.pace\\\\Documents\\\\mbda-autex\\\\AuTexTificationDataset\\\\subtask_1\\\\es\\\\train.tsv',\n",
              " 'c:\\\\Users\\\\jonatan.pace\\\\Documents\\\\mbda-autex\\\\AuTexTificationDataset\\\\subtask_2\\\\en\\\\test.tsv',\n",
              " 'c:\\\\Users\\\\jonatan.pace\\\\Documents\\\\mbda-autex\\\\AuTexTificationDataset\\\\subtask_2\\\\en\\\\train.tsv',\n",
              " 'c:\\\\Users\\\\jonatan.pace\\\\Documents\\\\mbda-autex\\\\AuTexTificationDataset\\\\subtask_2\\\\es\\\\test.tsv',\n",
              " 'c:\\\\Users\\\\jonatan.pace\\\\Documents\\\\mbda-autex\\\\AuTexTificationDataset\\\\subtask_2\\\\es\\\\train.tsv']"
            ]
          },
          "execution_count": 2,
          "metadata": {},
          "output_type": "execute_result"
        }
      ],
      "source": [
        "DATASET_URL = \"https://drive.google.com/drive/folders/17rMvLszfo-DQoIvzG1CusIQNwhnLKpB_\"\n",
        "gdown.download_folder(DATASET_URL, quiet=False)"
      ]
    },
    {
      "attachments": {},
      "cell_type": "markdown",
      "metadata": {
        "id": "k54tIctHVsYk"
      },
      "source": [
        "## Carga del corpus"
      ]
    },
    {
      "cell_type": "code",
      "execution_count": 3,
      "metadata": {
        "id": "9yVvugQYVrnt"
      },
      "outputs": [],
      "source": [
        "# Definimos la tarea 1 en el lenguaje español\n",
        "subtask = \"subtask_1\"\n",
        "language = \"es\""
      ]
    },
    {
      "cell_type": "code",
      "execution_count": 4,
      "metadata": {
        "id": "es33Yub4VbVN"
      },
      "outputs": [],
      "source": [
        "# Cargamos el corpus en dataframes de pandas\n",
        "df_train = pd.read_csv(\n",
        "    f\"AuTexTificationDataset/{subtask}/{language}/train.tsv\", delimiter=\"\\t\"\n",
        ")\n",
        "df_test = pd.read_csv(\n",
        "    f\"AuTexTificationDataset/{subtask}/{language}/test.tsv\", delimiter=\"\\t\"\n",
        ")"
      ]
    },
    {
      "cell_type": "code",
      "execution_count": 5,
      "metadata": {
        "colab": {
          "base_uri": "https://localhost:8080/",
          "height": 206
        },
        "id": "MgVNx76eWET2",
        "outputId": "1ba6034d-ce2d-4e0c-9dc9-1d3cb9a5f3db"
      },
      "outputs": [
        {
          "data": {
            "text/html": [
              "<div>\n",
              "<style scoped>\n",
              "    .dataframe tbody tr th:only-of-type {\n",
              "        vertical-align: middle;\n",
              "    }\n",
              "\n",
              "    .dataframe tbody tr th {\n",
              "        vertical-align: top;\n",
              "    }\n",
              "\n",
              "    .dataframe thead th {\n",
              "        text-align: right;\n",
              "    }\n",
              "</style>\n",
              "<table border=\"1\" class=\"dataframe\">\n",
              "  <thead>\n",
              "    <tr style=\"text-align: right;\">\n",
              "      <th></th>\n",
              "      <th>id</th>\n",
              "      <th>prompt</th>\n",
              "      <th>text</th>\n",
              "      <th>label</th>\n",
              "      <th>model</th>\n",
              "      <th>domain</th>\n",
              "    </tr>\n",
              "  </thead>\n",
              "  <tbody>\n",
              "    <tr>\n",
              "      <th>0</th>\n",
              "      <td>5464</td>\n",
              "      <td>NO-PROMPT</td>\n",
              "      <td>Entrada en vigor. La presente Directiva entrar...</td>\n",
              "      <td>human</td>\n",
              "      <td>NO-MODEL</td>\n",
              "      <td>legal</td>\n",
              "    </tr>\n",
              "    <tr>\n",
              "      <th>1</th>\n",
              "      <td>30129</td>\n",
              "      <td>Estos podrían ser preguntas, categorías de inf...</td>\n",
              "      <td>Preguntas: 1. ¿Cuáles son los principales argu...</td>\n",
              "      <td>generated</td>\n",
              "      <td>F</td>\n",
              "      <td>wiki</td>\n",
              "    </tr>\n",
              "    <tr>\n",
              "      <th>2</th>\n",
              "      <td>19553</td>\n",
              "      <td>-¿Desea algo? -Póngame una caja</td>\n",
              "      <td>¿Desea algo? Póngame una caja de madera. ¿Qué ...</td>\n",
              "      <td>generated</td>\n",
              "      <td>E</td>\n",
              "      <td>tweets</td>\n",
              "    </tr>\n",
              "    <tr>\n",
              "      <th>3</th>\n",
              "      <td>13005</td>\n",
              "      <td>NO-PROMPT</td>\n",
              "      <td>@victor28088 1665 Tweets no originales, que as...</td>\n",
              "      <td>human</td>\n",
              "      <td>NO-MODEL</td>\n",
              "      <td>tweets</td>\n",
              "    </tr>\n",
              "    <tr>\n",
              "      <th>4</th>\n",
              "      <td>16919</td>\n",
              "      <td>NO-PROMPT</td>\n",
              "      <td>De pequeño Dios me dio a elegir entre tener un...</td>\n",
              "      <td>human</td>\n",
              "      <td>NO-MODEL</td>\n",
              "      <td>tweets</td>\n",
              "    </tr>\n",
              "  </tbody>\n",
              "</table>\n",
              "</div>"
            ],
            "text/plain": [
              "      id                                             prompt  \\\n",
              "0   5464                                          NO-PROMPT   \n",
              "1  30129  Estos podrían ser preguntas, categorías de inf...   \n",
              "2  19553                    -¿Desea algo? -Póngame una caja   \n",
              "3  13005                                          NO-PROMPT   \n",
              "4  16919                                          NO-PROMPT   \n",
              "\n",
              "                                                text      label     model  \\\n",
              "0  Entrada en vigor. La presente Directiva entrar...      human  NO-MODEL   \n",
              "1  Preguntas: 1. ¿Cuáles son los principales argu...  generated         F   \n",
              "2  ¿Desea algo? Póngame una caja de madera. ¿Qué ...  generated         E   \n",
              "3  @victor28088 1665 Tweets no originales, que as...      human  NO-MODEL   \n",
              "4  De pequeño Dios me dio a elegir entre tener un...      human  NO-MODEL   \n",
              "\n",
              "   domain  \n",
              "0   legal  \n",
              "1    wiki  \n",
              "2  tweets  \n",
              "3  tweets  \n",
              "4  tweets  "
            ]
          },
          "execution_count": 5,
          "metadata": {},
          "output_type": "execute_result"
        }
      ],
      "source": [
        "# Vemos los primeros registros del dataset de entrenamiento\n",
        "df_train.head()"
      ]
    },
    {
      "cell_type": "code",
      "execution_count": 6,
      "metadata": {
        "colab": {
          "base_uri": "https://localhost:8080/",
          "height": 206
        },
        "id": "70XOW8t0DM8L",
        "outputId": "6f6e34ae-37d6-407d-f610-1bb7d433c023"
      },
      "outputs": [
        {
          "data": {
            "text/html": [
              "<div>\n",
              "<style scoped>\n",
              "    .dataframe tbody tr th:only-of-type {\n",
              "        vertical-align: middle;\n",
              "    }\n",
              "\n",
              "    .dataframe tbody tr th {\n",
              "        vertical-align: top;\n",
              "    }\n",
              "\n",
              "    .dataframe thead th {\n",
              "        text-align: right;\n",
              "    }\n",
              "</style>\n",
              "<table border=\"1\" class=\"dataframe\">\n",
              "  <thead>\n",
              "    <tr style=\"text-align: right;\">\n",
              "      <th></th>\n",
              "      <th>id</th>\n",
              "      <th>text</th>\n",
              "      <th>domain</th>\n",
              "    </tr>\n",
              "  </thead>\n",
              "  <tbody>\n",
              "    <tr>\n",
              "      <th>0</th>\n",
              "      <td>17414</td>\n",
              "      <td>Buscábamos tranquilidad y la encontramos. Me t...</td>\n",
              "      <td>reviews</td>\n",
              "    </tr>\n",
              "    <tr>\n",
              "      <th>1</th>\n",
              "      <td>16938</td>\n",
              "      <td>Nos sorprendió la cena, si vas con media pensi...</td>\n",
              "      <td>reviews</td>\n",
              "    </tr>\n",
              "    <tr>\n",
              "      <th>2</th>\n",
              "      <td>17379</td>\n",
              "      <td>Servicio atento y magnificas vistas al rio.</td>\n",
              "      <td>reviews</td>\n",
              "    </tr>\n",
              "    <tr>\n",
              "      <th>3</th>\n",
              "      <td>5391</td>\n",
              "      <td>La Oficina Nacional de Estadísticas de China d...</td>\n",
              "      <td>news</td>\n",
              "    </tr>\n",
              "    <tr>\n",
              "      <th>4</th>\n",
              "      <td>17310</td>\n",
              "      <td>Pero no puedes tener a una sola persona sirvie...</td>\n",
              "      <td>reviews</td>\n",
              "    </tr>\n",
              "  </tbody>\n",
              "</table>\n",
              "</div>"
            ],
            "text/plain": [
              "      id                                               text   domain\n",
              "0  17414  Buscábamos tranquilidad y la encontramos. Me t...  reviews\n",
              "1  16938  Nos sorprendió la cena, si vas con media pensi...  reviews\n",
              "2  17379        Servicio atento y magnificas vistas al rio.  reviews\n",
              "3   5391  La Oficina Nacional de Estadísticas de China d...     news\n",
              "4  17310  Pero no puedes tener a una sola persona sirvie...  reviews"
            ]
          },
          "execution_count": 6,
          "metadata": {},
          "output_type": "execute_result"
        }
      ],
      "source": [
        "df_test.head()"
      ]
    },
    {
      "attachments": {},
      "cell_type": "markdown",
      "metadata": {
        "id": "goYdRXgpDnvA"
      },
      "source": [
        "## Separación del dataset train en entrenamiento y validación"
      ]
    },
    {
      "cell_type": "code",
      "execution_count": 9,
      "metadata": {
        "id": "a3tNvOamDQT8"
      },
      "outputs": [],
      "source": [
        "X_train, X_val, y_train, y_val = train_test_split(\n",
        "    df_train[\"text\"], \n",
        "    df_train[\"label\"], \n",
        "    stratify = df_train[\"label\"], \n",
        "    random_state = 42, \n",
        "    test_size = 0.3 )"
      ]
    },
    {
      "cell_type": "code",
      "execution_count": 10,
      "metadata": {
        "colab": {
          "base_uri": "https://localhost:8080/"
        },
        "id": "MXCoc2c9Dq6k",
        "outputId": "265fd0cd-71e8-4ed0-9897-d3ce30703c6e"
      },
      "outputs": [
        {
          "data": {
            "text/plain": [
              "24284    Había una vez una tortuguita que fue a su prim...\n",
              "21740    También puedes comprar tarjetas de regalo de A...\n",
              "18482    Para la emisión de la declaración de inversion...\n",
              "9942     Si el cangrejo está muerto, comenzará a descom...\n",
              "12645    #SiMeEncontraraCon Una ZikITa ReGÁAeTtoÑera &l...\n",
              "Name: text, dtype: object"
            ]
          },
          "execution_count": 10,
          "metadata": {},
          "output_type": "execute_result"
        }
      ],
      "source": [
        "X_train.head()"
      ]
    },
    {
      "cell_type": "code",
      "execution_count": 11,
      "metadata": {
        "colab": {
          "base_uri": "https://localhost:8080/"
        },
        "id": "Ap78QMG6Dw7u",
        "outputId": "82484a79-fcce-44be-889c-83d6245b5e62"
      },
      "outputs": [
        {
          "data": {
            "text/plain": [
              "24284        human\n",
              "21740    generated\n",
              "18482    generated\n",
              "9942         human\n",
              "12645        human\n",
              "Name: label, dtype: object"
            ]
          },
          "execution_count": 11,
          "metadata": {},
          "output_type": "execute_result"
        }
      ],
      "source": [
        "y_train.head()"
      ]
    },
    {
      "cell_type": "code",
      "execution_count": 13,
      "metadata": {},
      "outputs": [
        {
          "data": {
            "text/plain": [
              "generated    11392\n",
              "human        11051\n",
              "Name: label, dtype: int64"
            ]
          },
          "execution_count": 13,
          "metadata": {},
          "output_type": "execute_result"
        }
      ],
      "source": [
        "# Valdidamos si las clases están valanceadas en la partición que usaremos para entrenar\n",
        "y_train.value_counts()"
      ]
    },
    {
      "cell_type": "code",
      "execution_count": 11,
      "metadata": {
        "colab": {
          "base_uri": "https://localhost:8080/"
        },
        "id": "M3iyIxMJDuTv",
        "outputId": "3a589c79-db82-46b5-e8ef-ceb4284e97f8"
      },
      "outputs": [
        {
          "data": {
            "text/plain": [
              "18613    Artículo 1. Se autoriza el uso como aditivo en...\n",
              "11869    Aquí es donde entra en juego el no caer en pán...\n",
              "8698     1. El presente Reglamento entrará en vigor a l...\n",
              "21587    Ya que el crecimiento de las bacterias en el c...\n",
              "5521     El estado de agotamiento del contingente se co...\n",
              "Name: text, dtype: object"
            ]
          },
          "execution_count": 11,
          "metadata": {},
          "output_type": "execute_result"
        }
      ],
      "source": [
        "X_val.head()"
      ]
    },
    {
      "cell_type": "code",
      "execution_count": 20,
      "metadata": {},
      "outputs": [
        {
          "data": {
            "text/plain": [
              "pandas.core.series.Series"
            ]
          },
          "execution_count": 20,
          "metadata": {},
          "output_type": "execute_result"
        }
      ],
      "source": [
        "type(X_val)"
      ]
    },
    {
      "cell_type": "code",
      "execution_count": 14,
      "metadata": {
        "colab": {
          "base_uri": "https://localhost:8080/"
        },
        "id": "bc21n6aiD0Oq",
        "outputId": "78be6c2e-7a5c-4a4d-c1ce-502c9b801807"
      },
      "outputs": [
        {
          "data": {
            "text/plain": [
              "generated    4883\n",
              "human        4736\n",
              "Name: label, dtype: int64"
            ]
          },
          "execution_count": 14,
          "metadata": {},
          "output_type": "execute_result"
        }
      ],
      "source": [
        "y_val.value_counts()"
      ]
    },
    {
      "attachments": {},
      "cell_type": "markdown",
      "metadata": {
        "id": "BbYL4EugWZCe"
      },
      "source": [
        "## Vectorización de textos"
      ]
    },
    {
      "cell_type": "code",
      "execution_count": 58,
      "metadata": {
        "id": "kU4qADkzWOzv"
      },
      "outputs": [],
      "source": [
        "# Iniciamos vectorizadores aplicando algunas variantes\n",
        "\n",
        "vectorizer_cv_word11 = CountVectorizer(analyzer=\"word\", ngram_range=(1, 1), max_features=5000)\n",
        "vectorizer_cv_char12 = CountVectorizer(analyzer=\"char\", ngram_range=(1, 2), max_features=5000)\n",
        "vectorizer_cv_char23 = CountVectorizer(analyzer=\"char\", ngram_range=(1, 3), max_features=5000)\n",
        "vectorizer_tf_char12 = TfidfVectorizer(analyzer=\"char\", ngram_range=(1, 2), max_features=5000)\n",
        "vectorizer_tf_char23 = TfidfVectorizer(analyzer=\"char\", ngram_range=(2, 3), max_features=5000)\n",
        "\n",
        "\n",
        "# Vectorizamos el dataset de entrenamiento\n",
        "\n",
        "vect_train_cv_word11 = vectorizer_cv_word11.fit_transform(X_train)\n",
        "vect_train_cv_char12 = vectorizer_cv_char12.fit_transform(X_train)\n",
        "vect_train_cv_char23 = vectorizer_cv_char23.fit_transform(X_train)\n",
        "vect_train_tf_char12 = vectorizer_tf_char12.fit_transform(X_train)\n",
        "vect_train_tf_char23 = vectorizer_tf_char23.fit_transform(X_train)\n",
        "\n",
        "# Vectorizamos el dataset de validación\n",
        "\n",
        "vect_val_cv_word11 = vectorizer_cv_word11.transform(X_val)\n",
        "vect_val_cv_char12 = vectorizer_cv_char12.transform(X_val)\n",
        "vect_val_cv_char23 = vectorizer_cv_char23.transform(X_val)\n",
        "vect_val_tf_char12 = vectorizer_tf_char12.transform(X_val)\n",
        "vect_val_tf_char23 = vectorizer_tf_char23.transform(X_val)"
      ]
    },
    {
      "attachments": {},
      "cell_type": "markdown",
      "metadata": {
        "id": "04-abUuQZKvj"
      },
      "source": [
        "# Entrenamiento de modelos"
      ]
    },
    {
      "cell_type": "code",
      "execution_count": 51,
      "metadata": {},
      "outputs": [],
      "source": [
        "# Función para imprimir las métricas de performance de los modelos\n",
        "\n",
        "def compute_scores(y_preds):\n",
        "    # Compute the macro-F1 score\n",
        "    substask = \"subtask_1\"\n",
        "    mf1 = f1_score(y_true=y_val, y_pred=y_preds, average=\"macro\")\n",
        "    \n",
        "    print(f'f1-macro: {mf1}')\n",
        "    print()\n",
        "    # Compute the confusion matrix\n",
        "    labels = [\"generated\", \"human\"] if substask == \"subtask_1\" else [\"A\", \"B\", \"C\", \"D\", \"E\", \"F\"]\n",
        "    conf_matrix = confusion_matrix(y_true=y_val, y_pred=y_preds, labels=labels)\n",
        "\n",
        "    print(conf_matrix)\n",
        "\n",
        "    # Compute a classification report\n",
        "    clf_report = classification_report(y_true=y_val, y_pred=y_preds)\n",
        "\n",
        "    print(clf_report)"
      ]
    },
    {
      "attachments": {},
      "cell_type": "markdown",
      "metadata": {},
      "source": [
        "## Regresión Lineal"
      ]
    },
    {
      "cell_type": "code",
      "execution_count": 52,
      "metadata": {},
      "outputs": [
        {
          "name": "stderr",
          "output_type": "stream",
          "text": [
            "c:\\Users\\jonatan.pace\\AppData\\Local\\Programs\\Python\\Python310\\lib\\site-packages\\sklearn\\linear_model\\_logistic.py:458: ConvergenceWarning: lbfgs failed to converge (status=1):\n",
            "STOP: TOTAL NO. of ITERATIONS REACHED LIMIT.\n",
            "\n",
            "Increase the number of iterations (max_iter) or scale the data as shown in:\n",
            "    https://scikit-learn.org/stable/modules/preprocessing.html\n",
            "Please also refer to the documentation for alternative solver options:\n",
            "    https://scikit-learn.org/stable/modules/linear_model.html#logistic-regression\n",
            "  n_iter_i = _check_optimize_result(\n"
          ]
        },
        {
          "name": "stdout",
          "output_type": "stream",
          "text": [
            "f1-macro: 0.7849544298360964\n",
            "\n",
            "[[3852 1031]\n",
            " [1037 3699]]\n",
            "              precision    recall  f1-score   support\n",
            "\n",
            "   generated       0.79      0.79      0.79      4883\n",
            "       human       0.78      0.78      0.78      4736\n",
            "\n",
            "    accuracy                           0.79      9619\n",
            "   macro avg       0.78      0.78      0.78      9619\n",
            "weighted avg       0.79      0.79      0.79      9619\n",
            "\n"
          ]
        }
      ],
      "source": [
        "# Modelo usando CountVectorizer con 1 n-grams de palabras\n",
        "# -------------------------------------------------------\n",
        "\n",
        "# Iniciamos el modelo\n",
        "lr_cv_word11 = LogisticRegression()\n",
        "\n",
        "# Entrenamos el modelo\n",
        "lr_cv_word11.fit(vect_train_cv_word11, y_train)\n",
        "\n",
        "# Obtenemos las predicciones \n",
        "lr_cv_word11_preds = lr_cv_word11.predict(vect_val_cv_word11)\n",
        "\n",
        "# Evaluación y métricas del modelo\n",
        "\n",
        "compute_scores(lr_cv_word11_preds)"
      ]
    },
    {
      "cell_type": "code",
      "execution_count": 53,
      "metadata": {},
      "outputs": [
        {
          "name": "stderr",
          "output_type": "stream",
          "text": [
            "c:\\Users\\jonatan.pace\\AppData\\Local\\Programs\\Python\\Python310\\lib\\site-packages\\sklearn\\linear_model\\_logistic.py:458: ConvergenceWarning: lbfgs failed to converge (status=1):\n",
            "STOP: TOTAL NO. of ITERATIONS REACHED LIMIT.\n",
            "\n",
            "Increase the number of iterations (max_iter) or scale the data as shown in:\n",
            "    https://scikit-learn.org/stable/modules/preprocessing.html\n",
            "Please also refer to the documentation for alternative solver options:\n",
            "    https://scikit-learn.org/stable/modules/linear_model.html#logistic-regression\n",
            "  n_iter_i = _check_optimize_result(\n"
          ]
        },
        {
          "name": "stdout",
          "output_type": "stream",
          "text": [
            "f1-macro: 0.7285969011153804\n",
            "\n",
            "[[3579 1304]\n",
            " [1306 3430]]\n",
            "              precision    recall  f1-score   support\n",
            "\n",
            "   generated       0.73      0.73      0.73      4883\n",
            "       human       0.72      0.72      0.72      4736\n",
            "\n",
            "    accuracy                           0.73      9619\n",
            "   macro avg       0.73      0.73      0.73      9619\n",
            "weighted avg       0.73      0.73      0.73      9619\n",
            "\n"
          ]
        }
      ],
      "source": [
        "# Modelo usando CountVectorizer con 1 a 2 n-grams de caracteres\n",
        "# -------------------------------------------------------------\n",
        "\n",
        "# Iniciamos el modelo\n",
        "lr_cv_char12 = LogisticRegression()\n",
        "\n",
        "# Entrenamos el modelo\n",
        "lr_cv_char12.fit(vect_train_cv_char12, y_train)\n",
        "\n",
        "# Obtenemos las predicciones \n",
        "lr_cv_char12_preds = lr_cv_char12.predict(vect_val_cv_char12)\n",
        "\n",
        "# Evaluación y métricas del modelo\n",
        "\n",
        "compute_scores(lr_cv_char12_preds)"
      ]
    },
    {
      "cell_type": "code",
      "execution_count": 55,
      "metadata": {},
      "outputs": [
        {
          "name": "stderr",
          "output_type": "stream",
          "text": [
            "c:\\Users\\jonatan.pace\\AppData\\Local\\Programs\\Python\\Python310\\lib\\site-packages\\sklearn\\linear_model\\_logistic.py:458: ConvergenceWarning: lbfgs failed to converge (status=1):\n",
            "STOP: TOTAL NO. of ITERATIONS REACHED LIMIT.\n",
            "\n",
            "Increase the number of iterations (max_iter) or scale the data as shown in:\n",
            "    https://scikit-learn.org/stable/modules/preprocessing.html\n",
            "Please also refer to the documentation for alternative solver options:\n",
            "    https://scikit-learn.org/stable/modules/linear_model.html#logistic-regression\n",
            "  n_iter_i = _check_optimize_result(\n"
          ]
        },
        {
          "name": "stdout",
          "output_type": "stream",
          "text": [
            "f1-macro: 0.7889627261088625\n",
            "\n",
            "[[3900  983]\n",
            " [1046 3690]]\n",
            "              precision    recall  f1-score   support\n",
            "\n",
            "   generated       0.79      0.80      0.79      4883\n",
            "       human       0.79      0.78      0.78      4736\n",
            "\n",
            "    accuracy                           0.79      9619\n",
            "   macro avg       0.79      0.79      0.79      9619\n",
            "weighted avg       0.79      0.79      0.79      9619\n",
            "\n"
          ]
        }
      ],
      "source": [
        "# Modelo usando CountVectorizer con 2 a 3 n-grams de caracteres\n",
        "# -------------------------------------------------------------\n",
        "\n",
        "# Iniciamos el modelo\n",
        "lr_cv_char23 = LogisticRegression()\n",
        "\n",
        "# Entrenamos el modelo\n",
        "lr_cv_char23.fit(vect_train_cv_char23, y_train)\n",
        "\n",
        "# Obtenemos las predicciones \n",
        "lr_cv_char23_preds = lr_cv_char23.predict(vect_val_cv_char23)\n",
        "\n",
        "# Evaluación y métricas del modelo\n",
        "\n",
        "compute_scores(lr_cv_char23_preds)"
      ]
    },
    {
      "cell_type": "code",
      "execution_count": 59,
      "metadata": {},
      "outputs": [
        {
          "name": "stdout",
          "output_type": "stream",
          "text": [
            "f1-macro: 0.7276612635736723\n",
            "\n",
            "[[3763 1120]\n",
            " [1492 3244]]\n",
            "              precision    recall  f1-score   support\n",
            "\n",
            "   generated       0.72      0.77      0.74      4883\n",
            "       human       0.74      0.68      0.71      4736\n",
            "\n",
            "    accuracy                           0.73      9619\n",
            "   macro avg       0.73      0.73      0.73      9619\n",
            "weighted avg       0.73      0.73      0.73      9619\n",
            "\n"
          ]
        }
      ],
      "source": [
        "# Modelo usando TfidfVectorizer con 1 a 2 n-grams de caracteres\n",
        "# -------------------------------------------------------------\n",
        "\n",
        "# Iniciamos el modelo\n",
        "lr_tf_char12 = LogisticRegression()\n",
        "\n",
        "# Entrenamos el modelo\n",
        "lr_tf_char12.fit(vect_train_tf_char12, y_train)\n",
        "\n",
        "# Obtenemos las predicciones \n",
        "lr_tf_char12_preds = lr_tf_char12.predict(vect_val_tf_char12)\n",
        "\n",
        "# Evaluación y métricas del modelo\n",
        "\n",
        "compute_scores(lr_tf_char12_preds)"
      ]
    },
    {
      "cell_type": "code",
      "execution_count": 60,
      "metadata": {},
      "outputs": [
        {
          "name": "stderr",
          "output_type": "stream",
          "text": [
            "c:\\Users\\jonatan.pace\\AppData\\Local\\Programs\\Python\\Python310\\lib\\site-packages\\sklearn\\linear_model\\_logistic.py:458: ConvergenceWarning: lbfgs failed to converge (status=1):\n",
            "STOP: TOTAL NO. of ITERATIONS REACHED LIMIT.\n",
            "\n",
            "Increase the number of iterations (max_iter) or scale the data as shown in:\n",
            "    https://scikit-learn.org/stable/modules/preprocessing.html\n",
            "Please also refer to the documentation for alternative solver options:\n",
            "    https://scikit-learn.org/stable/modules/linear_model.html#logistic-regression\n",
            "  n_iter_i = _check_optimize_result(\n"
          ]
        },
        {
          "name": "stdout",
          "output_type": "stream",
          "text": [
            "f1-macro: 0.7948631680058522\n",
            "\n",
            "[[3985  898]\n",
            " [1073 3663]]\n",
            "              precision    recall  f1-score   support\n",
            "\n",
            "   generated       0.79      0.82      0.80      4883\n",
            "       human       0.80      0.77      0.79      4736\n",
            "\n",
            "    accuracy                           0.80      9619\n",
            "   macro avg       0.80      0.79      0.79      9619\n",
            "weighted avg       0.80      0.80      0.79      9619\n",
            "\n"
          ]
        }
      ],
      "source": [
        "# Modelo usando TfidfVectorizer con 2 a 3 n-grams de caracteres\n",
        "# -------------------------------------------------------------\n",
        "\n",
        "# Iniciamos el modelo\n",
        "lr_tf_char23 = LogisticRegression()\n",
        "\n",
        "# Entrenamos el modelo\n",
        "lr_tf_char23.fit(vect_train_tf_char23, y_train)\n",
        "\n",
        "# Obtenemos las predicciones \n",
        "lr_tf_char23_preds = lr_tf_char23.predict(vect_val_tf_char23)\n",
        "\n",
        "# Evaluación y métricas del modelo\n",
        "\n",
        "compute_scores(lr_tf_char23_preds)"
      ]
    },
    {
      "attachments": {},
      "cell_type": "markdown",
      "metadata": {},
      "source": [
        "## Support Vector Machine"
      ]
    },
    {
      "cell_type": "code",
      "execution_count": 62,
      "metadata": {},
      "outputs": [
        {
          "name": "stdout",
          "output_type": "stream",
          "text": [
            "f1-macro: 0.8324128982490834\n",
            "\n",
            "[[4125  758]\n",
            " [ 853 3883]]\n",
            "              precision    recall  f1-score   support\n",
            "\n",
            "   generated       0.83      0.84      0.84      4883\n",
            "       human       0.84      0.82      0.83      4736\n",
            "\n",
            "    accuracy                           0.83      9619\n",
            "   macro avg       0.83      0.83      0.83      9619\n",
            "weighted avg       0.83      0.83      0.83      9619\n",
            "\n"
          ]
        }
      ],
      "source": [
        "# Modelo usando TfidfVectorizer con 2 a 3 n-grams de caracteres\n",
        "# -------------------------------------------------------------\n",
        "\n",
        "# Iniciamos el modelo\n",
        "svm_tf_char23 = svm.SVC()\n",
        "\n",
        "# Entrenamos el modelo\n",
        "svm_tf_char23.fit(vect_train_tf_char23, y_train)\n",
        "\n",
        "# Obtenemos las predicciones \n",
        "svm_tf_char23_preds = svm_tf_char23.predict(vect_val_tf_char23)\n",
        "\n",
        "# Evaluación y métricas del modelo\n",
        "\n",
        "compute_scores(svm_tf_char23_preds)"
      ]
    },
    {
      "attachments": {},
      "cell_type": "markdown",
      "metadata": {},
      "source": [
        "## Fine-Tuning"
      ]
    },
    {
      "cell_type": "code",
      "execution_count": 68,
      "metadata": {},
      "outputs": [
        {
          "name": "stderr",
          "output_type": "stream",
          "text": [
            "c:\\Users\\jonatan.pace\\AppData\\Local\\Programs\\Python\\Python310\\lib\\site-packages\\sklearn\\linear_model\\_logistic.py:458: ConvergenceWarning: lbfgs failed to converge (status=1):\n",
            "STOP: TOTAL NO. of ITERATIONS REACHED LIMIT.\n",
            "\n",
            "Increase the number of iterations (max_iter) or scale the data as shown in:\n",
            "    https://scikit-learn.org/stable/modules/preprocessing.html\n",
            "Please also refer to the documentation for alternative solver options:\n",
            "    https://scikit-learn.org/stable/modules/linear_model.html#logistic-regression\n",
            "  n_iter_i = _check_optimize_result(\n",
            "c:\\Users\\jonatan.pace\\AppData\\Local\\Programs\\Python\\Python310\\lib\\site-packages\\sklearn\\linear_model\\_logistic.py:458: ConvergenceWarning: lbfgs failed to converge (status=1):\n",
            "STOP: TOTAL NO. of ITERATIONS REACHED LIMIT.\n",
            "\n",
            "Increase the number of iterations (max_iter) or scale the data as shown in:\n",
            "    https://scikit-learn.org/stable/modules/preprocessing.html\n",
            "Please also refer to the documentation for alternative solver options:\n",
            "    https://scikit-learn.org/stable/modules/linear_model.html#logistic-regression\n",
            "  n_iter_i = _check_optimize_result(\n",
            "c:\\Users\\jonatan.pace\\AppData\\Local\\Programs\\Python\\Python310\\lib\\site-packages\\sklearn\\linear_model\\_logistic.py:458: ConvergenceWarning: lbfgs failed to converge (status=1):\n",
            "STOP: TOTAL NO. of ITERATIONS REACHED LIMIT.\n",
            "\n",
            "Increase the number of iterations (max_iter) or scale the data as shown in:\n",
            "    https://scikit-learn.org/stable/modules/preprocessing.html\n",
            "Please also refer to the documentation for alternative solver options:\n",
            "    https://scikit-learn.org/stable/modules/linear_model.html#logistic-regression\n",
            "  n_iter_i = _check_optimize_result(\n",
            "c:\\Users\\jonatan.pace\\AppData\\Local\\Programs\\Python\\Python310\\lib\\site-packages\\sklearn\\linear_model\\_logistic.py:458: ConvergenceWarning: lbfgs failed to converge (status=1):\n",
            "STOP: TOTAL NO. of ITERATIONS REACHED LIMIT.\n",
            "\n",
            "Increase the number of iterations (max_iter) or scale the data as shown in:\n",
            "    https://scikit-learn.org/stable/modules/preprocessing.html\n",
            "Please also refer to the documentation for alternative solver options:\n",
            "    https://scikit-learn.org/stable/modules/linear_model.html#logistic-regression\n",
            "  n_iter_i = _check_optimize_result(\n",
            "c:\\Users\\jonatan.pace\\AppData\\Local\\Programs\\Python\\Python310\\lib\\site-packages\\sklearn\\linear_model\\_logistic.py:458: ConvergenceWarning: lbfgs failed to converge (status=1):\n",
            "STOP: TOTAL NO. of ITERATIONS REACHED LIMIT.\n",
            "\n",
            "Increase the number of iterations (max_iter) or scale the data as shown in:\n",
            "    https://scikit-learn.org/stable/modules/preprocessing.html\n",
            "Please also refer to the documentation for alternative solver options:\n",
            "    https://scikit-learn.org/stable/modules/linear_model.html#logistic-regression\n",
            "  n_iter_i = _check_optimize_result(\n",
            "c:\\Users\\jonatan.pace\\AppData\\Local\\Programs\\Python\\Python310\\lib\\site-packages\\sklearn\\model_selection\\_validation.py:378: FitFailedWarning: \n",
            "15 fits failed out of a total of 30.\n",
            "The score on these train-test partitions for these parameters will be set to nan.\n",
            "If these failures are not expected, you can try to debug them by setting error_score='raise'.\n",
            "\n",
            "Below are more details about the failures:\n",
            "--------------------------------------------------------------------------------\n",
            "15 fits failed with the following error:\n",
            "Traceback (most recent call last):\n",
            "  File \"c:\\Users\\jonatan.pace\\AppData\\Local\\Programs\\Python\\Python310\\lib\\site-packages\\sklearn\\model_selection\\_validation.py\", line 686, in _fit_and_score\n",
            "    estimator.fit(X_train, y_train, **fit_params)\n",
            "  File \"c:\\Users\\jonatan.pace\\AppData\\Local\\Programs\\Python\\Python310\\lib\\site-packages\\sklearn\\linear_model\\_logistic.py\", line 1162, in fit\n",
            "    solver = _check_solver(self.solver, self.penalty, self.dual)\n",
            "  File \"c:\\Users\\jonatan.pace\\AppData\\Local\\Programs\\Python\\Python310\\lib\\site-packages\\sklearn\\linear_model\\_logistic.py\", line 54, in _check_solver\n",
            "    raise ValueError(\n",
            "ValueError: Solver lbfgs supports only 'l2' or 'none' penalties, got l1 penalty.\n",
            "\n",
            "  warnings.warn(some_fits_failed_message, FitFailedWarning)\n",
            "c:\\Users\\jonatan.pace\\AppData\\Local\\Programs\\Python\\Python310\\lib\\site-packages\\sklearn\\model_selection\\_search.py:952: UserWarning: One or more of the test scores are non-finite: [       nan 0.74357281        nan 0.78608079        nan 0.7999822 ]\n",
            "  warnings.warn(\n",
            "c:\\Users\\jonatan.pace\\AppData\\Local\\Programs\\Python\\Python310\\lib\\site-packages\\sklearn\\linear_model\\_logistic.py:458: ConvergenceWarning: lbfgs failed to converge (status=1):\n",
            "STOP: TOTAL NO. of ITERATIONS REACHED LIMIT.\n",
            "\n",
            "Increase the number of iterations (max_iter) or scale the data as shown in:\n",
            "    https://scikit-learn.org/stable/modules/preprocessing.html\n",
            "Please also refer to the documentation for alternative solver options:\n",
            "    https://scikit-learn.org/stable/modules/linear_model.html#logistic-regression\n",
            "  n_iter_i = _check_optimize_result(\n"
          ]
        }
      ],
      "source": [
        "# Iniciamos el modelo\n",
        "lr_tf_char23_tunned = LogisticRegression()\n",
        "\n",
        "# Definimos los parámetros para la búsqueda en cuadrícula\n",
        "parameters = {\n",
        "    'C': [0.1, 1.0, 10.0],\n",
        "    'penalty': ['l1', 'l2']\n",
        "}\n",
        "\n",
        "# Creamos el objeto GridSearchCV\n",
        "grid_search = GridSearchCV(lr_tf_char23, parameters, cv=5)\n",
        "\n",
        "# Realizamos la búsqueda en cuadrícula y entrenamos el modelo\n",
        "grid_search.fit(vect_train_tf_char23, y_train)\n",
        "\n",
        "# Obtenemos el mejor modelo encontrado por la búsqueda en cuadrícula\n",
        "best_model = grid_search.best_estimator_\n"
      ]
    },
    {
      "cell_type": "code",
      "execution_count": 69,
      "metadata": {},
      "outputs": [
        {
          "data": {
            "text/html": [
              "<style>#sk-container-id-1 {color: black;background-color: white;}#sk-container-id-1 pre{padding: 0;}#sk-container-id-1 div.sk-toggleable {background-color: white;}#sk-container-id-1 label.sk-toggleable__label {cursor: pointer;display: block;width: 100%;margin-bottom: 0;padding: 0.3em;box-sizing: border-box;text-align: center;}#sk-container-id-1 label.sk-toggleable__label-arrow:before {content: \"▸\";float: left;margin-right: 0.25em;color: #696969;}#sk-container-id-1 label.sk-toggleable__label-arrow:hover:before {color: black;}#sk-container-id-1 div.sk-estimator:hover label.sk-toggleable__label-arrow:before {color: black;}#sk-container-id-1 div.sk-toggleable__content {max-height: 0;max-width: 0;overflow: hidden;text-align: left;background-color: #f0f8ff;}#sk-container-id-1 div.sk-toggleable__content pre {margin: 0.2em;color: black;border-radius: 0.25em;background-color: #f0f8ff;}#sk-container-id-1 input.sk-toggleable__control:checked~div.sk-toggleable__content {max-height: 200px;max-width: 100%;overflow: auto;}#sk-container-id-1 input.sk-toggleable__control:checked~label.sk-toggleable__label-arrow:before {content: \"▾\";}#sk-container-id-1 div.sk-estimator input.sk-toggleable__control:checked~label.sk-toggleable__label {background-color: #d4ebff;}#sk-container-id-1 div.sk-label input.sk-toggleable__control:checked~label.sk-toggleable__label {background-color: #d4ebff;}#sk-container-id-1 input.sk-hidden--visually {border: 0;clip: rect(1px 1px 1px 1px);clip: rect(1px, 1px, 1px, 1px);height: 1px;margin: -1px;overflow: hidden;padding: 0;position: absolute;width: 1px;}#sk-container-id-1 div.sk-estimator {font-family: monospace;background-color: #f0f8ff;border: 1px dotted black;border-radius: 0.25em;box-sizing: border-box;margin-bottom: 0.5em;}#sk-container-id-1 div.sk-estimator:hover {background-color: #d4ebff;}#sk-container-id-1 div.sk-parallel-item::after {content: \"\";width: 100%;border-bottom: 1px solid gray;flex-grow: 1;}#sk-container-id-1 div.sk-label:hover label.sk-toggleable__label {background-color: #d4ebff;}#sk-container-id-1 div.sk-serial::before {content: \"\";position: absolute;border-left: 1px solid gray;box-sizing: border-box;top: 0;bottom: 0;left: 50%;z-index: 0;}#sk-container-id-1 div.sk-serial {display: flex;flex-direction: column;align-items: center;background-color: white;padding-right: 0.2em;padding-left: 0.2em;position: relative;}#sk-container-id-1 div.sk-item {position: relative;z-index: 1;}#sk-container-id-1 div.sk-parallel {display: flex;align-items: stretch;justify-content: center;background-color: white;position: relative;}#sk-container-id-1 div.sk-item::before, #sk-container-id-1 div.sk-parallel-item::before {content: \"\";position: absolute;border-left: 1px solid gray;box-sizing: border-box;top: 0;bottom: 0;left: 50%;z-index: -1;}#sk-container-id-1 div.sk-parallel-item {display: flex;flex-direction: column;z-index: 1;position: relative;background-color: white;}#sk-container-id-1 div.sk-parallel-item:first-child::after {align-self: flex-end;width: 50%;}#sk-container-id-1 div.sk-parallel-item:last-child::after {align-self: flex-start;width: 50%;}#sk-container-id-1 div.sk-parallel-item:only-child::after {width: 0;}#sk-container-id-1 div.sk-dashed-wrapped {border: 1px dashed gray;margin: 0 0.4em 0.5em 0.4em;box-sizing: border-box;padding-bottom: 0.4em;background-color: white;}#sk-container-id-1 div.sk-label label {font-family: monospace;font-weight: bold;display: inline-block;line-height: 1.2em;}#sk-container-id-1 div.sk-label-container {text-align: center;}#sk-container-id-1 div.sk-container {/* jupyter's `normalize.less` sets `[hidden] { display: none; }` but bootstrap.min.css set `[hidden] { display: none !important; }` so we also need the `!important` here to be able to override the default hidden behavior on the sphinx rendered scikit-learn.org. See: https://github.com/scikit-learn/scikit-learn/issues/21755 */display: inline-block !important;position: relative;}#sk-container-id-1 div.sk-text-repr-fallback {display: none;}</style><div id=\"sk-container-id-1\" class=\"sk-top-container\"><div class=\"sk-text-repr-fallback\"><pre>LogisticRegression(C=10.0)</pre><b>In a Jupyter environment, please rerun this cell to show the HTML representation or trust the notebook. <br />On GitHub, the HTML representation is unable to render, please try loading this page with nbviewer.org.</b></div><div class=\"sk-container\" hidden><div class=\"sk-item\"><div class=\"sk-estimator sk-toggleable\"><input class=\"sk-toggleable__control sk-hidden--visually\" id=\"sk-estimator-id-1\" type=\"checkbox\" checked><label for=\"sk-estimator-id-1\" class=\"sk-toggleable__label sk-toggleable__label-arrow\">LogisticRegression</label><div class=\"sk-toggleable__content\"><pre>LogisticRegression(C=10.0)</pre></div></div></div></div></div>"
            ],
            "text/plain": [
              "LogisticRegression(C=10.0)"
            ]
          },
          "execution_count": 69,
          "metadata": {},
          "output_type": "execute_result"
        }
      ],
      "source": [
        "best_model"
      ]
    },
    {
      "attachments": {},
      "cell_type": "markdown",
      "metadata": {},
      "source": [
        "# Entrenamiento del modelo final con todo el corpus disponible"
      ]
    },
    {
      "attachments": {},
      "cell_type": "markdown",
      "metadata": {},
      "source": [
        "## Vectorizado del corpus completo con el mejor método encontrado durante el entrenamiento"
      ]
    },
    {
      "cell_type": "code",
      "execution_count": 106,
      "metadata": {},
      "outputs": [],
      "source": [
        "# Convertimos el corpus de entrenamiento y test en un pandas series\n",
        "\n",
        "X_train_all = df_train[['text']].squeeze()\n",
        "y_train_all = df_train[['label']].squeeze()\n",
        "\n",
        "X_test = df_test[['text']].squeeze()\n",
        "\n",
        "# Vectorizamos el corpus completo de entrenamiento (datos etiquetados) y el de test (datos sin etiquetar)\n",
        "\n",
        "vect_train_all_tf_char23 = vectorizer_tf_char23.fit_transform(X_train_all)\n",
        "vect_test_tf_char23 = vectorizer_tf_char23.transform(X_test)\n"
      ]
    },
    {
      "cell_type": "code",
      "execution_count": 158,
      "metadata": {},
      "outputs": [],
      "source": [
        "# Modelo de regresión logística usando TfidfVectorizer con 2 a 3 n-grams de caracteres\n",
        "# ---------------------------------------------------------------------------------\n",
        "\n",
        "# Iniciamos el modelo\n",
        "lr_tf_char23_tunned = LogisticRegression(C=10)\n",
        "\n",
        "# Entrenamos el modelo\n",
        "lr_tf_char23_tunned.fit(vect_train_all_tf_char23, y_train_all)\n",
        "\n",
        "# Obtenemos las predicciones \n",
        "lr_tf_char23_preds = lr_tf_char23_tunned.predict(vect_test_tf_char23)\n",
        "\n",
        "# Obtenemos las predicciones con sus probabilidades\n",
        "lr_tf_char23_preds_proba = lr_tf_char23_tunned.predict_proba(vect_test_tf_char23)"
      ]
    },
    {
      "cell_type": "code",
      "execution_count": 159,
      "metadata": {},
      "outputs": [
        {
          "data": {
            "text/plain": [
              "array(['generated', 'human', 'generated', ..., 'generated', 'generated',\n",
              "       'generated'], dtype=object)"
            ]
          },
          "execution_count": 159,
          "metadata": {},
          "output_type": "execute_result"
        }
      ],
      "source": [
        "lr_tf_char23_preds"
      ]
    },
    {
      "cell_type": "code",
      "execution_count": 160,
      "metadata": {},
      "outputs": [
        {
          "data": {
            "text/plain": [
              "array([[0.74329888, 0.25670112],\n",
              "       [0.13604077, 0.86395923],\n",
              "       [0.54804559, 0.45195441],\n",
              "       ...,\n",
              "       [0.87518561, 0.12481439],\n",
              "       [0.87795661, 0.12204339],\n",
              "       [0.76129209, 0.23870791]])"
            ]
          },
          "execution_count": 160,
          "metadata": {},
          "output_type": "execute_result"
        }
      ],
      "source": [
        "lr_tf_char23_preds_proba"
      ]
    },
    {
      "cell_type": "code",
      "execution_count": 178,
      "metadata": {},
      "outputs": [],
      "source": [
        "# Predicciones con el modelo de support vector machine entrenado solo con parte del corpus de training y sin optimizar hiperparámetros\n",
        "\n",
        "svm_tf_char23_preds = svm_tf_char23.predict(vect_test_tf_char23)\n"
      ]
    },
    {
      "cell_type": "code",
      "execution_count": 163,
      "metadata": {},
      "outputs": [],
      "source": [
        "# Añadimos las columnas de predicciones al dataset de test\n",
        "\n",
        "df_test['label_lr_generated_proba'] = lr_tf_char23_preds_proba[:,0]\n",
        "df_test['label_lr_human_proba'] = lr_tf_char23_preds_proba[:,1]"
      ]
    },
    {
      "cell_type": "code",
      "execution_count": 179,
      "metadata": {},
      "outputs": [
        {
          "data": {
            "text/html": [
              "<div>\n",
              "<style scoped>\n",
              "    .dataframe tbody tr th:only-of-type {\n",
              "        vertical-align: middle;\n",
              "    }\n",
              "\n",
              "    .dataframe tbody tr th {\n",
              "        vertical-align: top;\n",
              "    }\n",
              "\n",
              "    .dataframe thead th {\n",
              "        text-align: right;\n",
              "    }\n",
              "</style>\n",
              "<table border=\"1\" class=\"dataframe\">\n",
              "  <thead>\n",
              "    <tr style=\"text-align: right;\">\n",
              "      <th></th>\n",
              "      <th>id</th>\n",
              "      <th>text</th>\n",
              "      <th>domain</th>\n",
              "      <th>label_lr_generated_proba</th>\n",
              "      <th>label_lr_human_proba</th>\n",
              "      <th>label_lr_tunned_tr50</th>\n",
              "      <th>label_lr_tunned_tr80</th>\n",
              "      <th>label_svm_tr50</th>\n",
              "    </tr>\n",
              "  </thead>\n",
              "  <tbody>\n",
              "    <tr>\n",
              "      <th>0</th>\n",
              "      <td>17414</td>\n",
              "      <td>Buscábamos tranquilidad y la encontramos. Me t...</td>\n",
              "      <td>reviews</td>\n",
              "      <td>0.743299</td>\n",
              "      <td>0.256701</td>\n",
              "      <td>generated</td>\n",
              "      <td>human</td>\n",
              "      <td>human</td>\n",
              "    </tr>\n",
              "    <tr>\n",
              "      <th>1</th>\n",
              "      <td>16938</td>\n",
              "      <td>Nos sorprendió la cena, si vas con media pensi...</td>\n",
              "      <td>reviews</td>\n",
              "      <td>0.136041</td>\n",
              "      <td>0.863959</td>\n",
              "      <td>human</td>\n",
              "      <td>human</td>\n",
              "      <td>human</td>\n",
              "    </tr>\n",
              "    <tr>\n",
              "      <th>2</th>\n",
              "      <td>17379</td>\n",
              "      <td>Servicio atento y magnificas vistas al rio.</td>\n",
              "      <td>reviews</td>\n",
              "      <td>0.548046</td>\n",
              "      <td>0.451954</td>\n",
              "      <td>generated</td>\n",
              "      <td>human</td>\n",
              "      <td>generated</td>\n",
              "    </tr>\n",
              "    <tr>\n",
              "      <th>3</th>\n",
              "      <td>5391</td>\n",
              "      <td>La Oficina Nacional de Estadísticas de China d...</td>\n",
              "      <td>news</td>\n",
              "      <td>0.580462</td>\n",
              "      <td>0.419538</td>\n",
              "      <td>generated</td>\n",
              "      <td>human</td>\n",
              "      <td>human</td>\n",
              "    </tr>\n",
              "    <tr>\n",
              "      <th>4</th>\n",
              "      <td>17310</td>\n",
              "      <td>Pero no puedes tener a una sola persona sirvie...</td>\n",
              "      <td>reviews</td>\n",
              "      <td>0.085232</td>\n",
              "      <td>0.914768</td>\n",
              "      <td>human</td>\n",
              "      <td>human</td>\n",
              "      <td>human</td>\n",
              "    </tr>\n",
              "    <tr>\n",
              "      <th>...</th>\n",
              "      <td>...</td>\n",
              "      <td>...</td>\n",
              "      <td>...</td>\n",
              "      <td>...</td>\n",
              "      <td>...</td>\n",
              "      <td>...</td>\n",
              "      <td>...</td>\n",
              "      <td>...</td>\n",
              "    </tr>\n",
              "    <tr>\n",
              "      <th>20124</th>\n",
              "      <td>11284</td>\n",
              "      <td>Pero no fue un problema para mí en absoluto! E...</td>\n",
              "      <td>reviews</td>\n",
              "      <td>0.963334</td>\n",
              "      <td>0.036666</td>\n",
              "      <td>generated</td>\n",
              "      <td>generated</td>\n",
              "      <td>generated</td>\n",
              "    </tr>\n",
              "    <tr>\n",
              "      <th>20125</th>\n",
              "      <td>11964</td>\n",
              "      <td>Para mí, no hay nada más importante en la vida...</td>\n",
              "      <td>reviews</td>\n",
              "      <td>0.983017</td>\n",
              "      <td>0.016983</td>\n",
              "      <td>generated</td>\n",
              "      <td>generated</td>\n",
              "      <td>generated</td>\n",
              "    </tr>\n",
              "    <tr>\n",
              "      <th>20126</th>\n",
              "      <td>5390</td>\n",
              "      <td>El sindicato Futbolistas Argentinos Agremiados...</td>\n",
              "      <td>news</td>\n",
              "      <td>0.875186</td>\n",
              "      <td>0.124814</td>\n",
              "      <td>generated</td>\n",
              "      <td>generated</td>\n",
              "      <td>human</td>\n",
              "    </tr>\n",
              "    <tr>\n",
              "      <th>20127</th>\n",
              "      <td>860</td>\n",
              "      <td>Incluso ahora se siente joven. Fidel Castro es...</td>\n",
              "      <td>news</td>\n",
              "      <td>0.877957</td>\n",
              "      <td>0.122043</td>\n",
              "      <td>generated</td>\n",
              "      <td>generated</td>\n",
              "      <td>human</td>\n",
              "    </tr>\n",
              "    <tr>\n",
              "      <th>20128</th>\n",
              "      <td>15795</td>\n",
              "      <td>Pelusillas y pelos en el suelo habitación. Col...</td>\n",
              "      <td>reviews</td>\n",
              "      <td>0.761292</td>\n",
              "      <td>0.238708</td>\n",
              "      <td>generated</td>\n",
              "      <td>human</td>\n",
              "      <td>generated</td>\n",
              "    </tr>\n",
              "  </tbody>\n",
              "</table>\n",
              "<p>20129 rows × 8 columns</p>\n",
              "</div>"
            ],
            "text/plain": [
              "          id                                               text   domain  \\\n",
              "0      17414  Buscábamos tranquilidad y la encontramos. Me t...  reviews   \n",
              "1      16938  Nos sorprendió la cena, si vas con media pensi...  reviews   \n",
              "2      17379        Servicio atento y magnificas vistas al rio.  reviews   \n",
              "3       5391  La Oficina Nacional de Estadísticas de China d...     news   \n",
              "4      17310  Pero no puedes tener a una sola persona sirvie...  reviews   \n",
              "...      ...                                                ...      ...   \n",
              "20124  11284  Pero no fue un problema para mí en absoluto! E...  reviews   \n",
              "20125  11964  Para mí, no hay nada más importante en la vida...  reviews   \n",
              "20126   5390  El sindicato Futbolistas Argentinos Agremiados...     news   \n",
              "20127    860  Incluso ahora se siente joven. Fidel Castro es...     news   \n",
              "20128  15795  Pelusillas y pelos en el suelo habitación. Col...  reviews   \n",
              "\n",
              "       label_lr_generated_proba  label_lr_human_proba label_lr_tunned_tr50  \\\n",
              "0                      0.743299              0.256701            generated   \n",
              "1                      0.136041              0.863959                human   \n",
              "2                      0.548046              0.451954            generated   \n",
              "3                      0.580462              0.419538            generated   \n",
              "4                      0.085232              0.914768                human   \n",
              "...                         ...                   ...                  ...   \n",
              "20124                  0.963334              0.036666            generated   \n",
              "20125                  0.983017              0.016983            generated   \n",
              "20126                  0.875186              0.124814            generated   \n",
              "20127                  0.877957              0.122043            generated   \n",
              "20128                  0.761292              0.238708            generated   \n",
              "\n",
              "      label_lr_tunned_tr80 label_svm_tr50  \n",
              "0                    human          human  \n",
              "1                    human          human  \n",
              "2                    human      generated  \n",
              "3                    human          human  \n",
              "4                    human          human  \n",
              "...                    ...            ...  \n",
              "20124            generated      generated  \n",
              "20125            generated      generated  \n",
              "20126            generated          human  \n",
              "20127            generated          human  \n",
              "20128                human      generated  \n",
              "\n",
              "[20129 rows x 8 columns]"
            ]
          },
          "execution_count": 179,
          "metadata": {},
          "output_type": "execute_result"
        }
      ],
      "source": [
        "# Añadimos la columna de etiquetas\n",
        "\n",
        "df_test['label_lr_tunned_tr50'] = np.where(df_test['label_lr_generated_proba'] > .5, 'generated', 'human')\n",
        "df_test['label_lr_tunned_tr80'] = np.where(df_test['label_lr_generated_proba'] > .8, 'generated', 'human')\n",
        "df_test['label_svm_tr50'] = svm_tf_char23_preds\n",
        "df_test\n"
      ]
    },
    {
      "cell_type": "code",
      "execution_count": 190,
      "metadata": {},
      "outputs": [
        {
          "data": {
            "text/plain": [
              "generated    15942\n",
              "human         4187\n",
              "Name: label_lr_tunned_tr50, dtype: int64"
            ]
          },
          "execution_count": 190,
          "metadata": {},
          "output_type": "execute_result"
        }
      ],
      "source": [
        "df_test.label_lr_tunned_tr50.value_counts()"
      ]
    },
    {
      "cell_type": "code",
      "execution_count": 191,
      "metadata": {},
      "outputs": [
        {
          "data": {
            "text/plain": [
              "generated    10573\n",
              "human         9556\n",
              "Name: label_lr_tunned_tr80, dtype: int64"
            ]
          },
          "execution_count": 191,
          "metadata": {},
          "output_type": "execute_result"
        }
      ],
      "source": [
        "df_test.label_lr_tunned_tr80.value_counts()"
      ]
    },
    {
      "cell_type": "code",
      "execution_count": 192,
      "metadata": {},
      "outputs": [
        {
          "data": {
            "text/plain": [
              "human        14592\n",
              "generated     5537\n",
              "Name: label_svm_tr50, dtype: int64"
            ]
          },
          "execution_count": 192,
          "metadata": {},
          "output_type": "execute_result"
        }
      ],
      "source": [
        "df_test.label_svm_tr50.value_counts()"
      ]
    },
    {
      "attachments": {},
      "cell_type": "markdown",
      "metadata": {},
      "source": [
        "## Guardamos el fichero test añadiendo la columna con las predicciones"
      ]
    },
    {
      "cell_type": "code",
      "execution_count": 188,
      "metadata": {},
      "outputs": [],
      "source": [
        "jonmarcas_lrTfChar23TunnedTr50 = df_test.rename(columns={'label_lr_tunned_tr50': 'label'})[['id', 'label']]\n",
        "jonmarcas_lrTfChar23TunnedTr80 = df_test.rename(columns={'label_lr_tunned_tr80': 'label'})[['id', 'label']]\n",
        "jonmarcas_svmTfChar23baseTr50 = df_test.rename(columns={'label_svm_tr50': 'label'})[['id', 'label']]\n",
        "\n",
        "jonmarcas_lrTfChar23TunnedTr50.to_csv('jonmarcas_lrTfChar23TunnedTr50.csv', sep='\\t', index=False)\n",
        "jonmarcas_lrTfChar23TunnedTr80.to_csv('jonmarcas_lrTfChar23TunnedTr80.csv', sep='\\t', index=False)\n",
        "jonmarcas_svmTfChar23baseTr50.to_csv('jonmarcas_svmTfChar23baseTr50.csv', sep='\\t', index=False)"
      ]
    },
    {
      "cell_type": "code",
      "execution_count": 189,
      "metadata": {},
      "outputs": [
        {
          "data": {
            "text/html": [
              "<div>\n",
              "<style scoped>\n",
              "    .dataframe tbody tr th:only-of-type {\n",
              "        vertical-align: middle;\n",
              "    }\n",
              "\n",
              "    .dataframe tbody tr th {\n",
              "        vertical-align: top;\n",
              "    }\n",
              "\n",
              "    .dataframe thead th {\n",
              "        text-align: right;\n",
              "    }\n",
              "</style>\n",
              "<table border=\"1\" class=\"dataframe\">\n",
              "  <thead>\n",
              "    <tr style=\"text-align: right;\">\n",
              "      <th></th>\n",
              "      <th>id</th>\n",
              "      <th>text</th>\n",
              "      <th>domain</th>\n",
              "      <th>label_lr_generated_proba</th>\n",
              "      <th>label_lr_human_proba</th>\n",
              "      <th>label_lr_tunned_tr50</th>\n",
              "      <th>label_lr_tunned_tr80</th>\n",
              "      <th>label_svm_tr50</th>\n",
              "    </tr>\n",
              "  </thead>\n",
              "  <tbody>\n",
              "    <tr>\n",
              "      <th>0</th>\n",
              "      <td>17414</td>\n",
              "      <td>Buscábamos tranquilidad y la encontramos. Me t...</td>\n",
              "      <td>reviews</td>\n",
              "      <td>0.743299</td>\n",
              "      <td>0.256701</td>\n",
              "      <td>generated</td>\n",
              "      <td>human</td>\n",
              "      <td>human</td>\n",
              "    </tr>\n",
              "    <tr>\n",
              "      <th>1</th>\n",
              "      <td>16938</td>\n",
              "      <td>Nos sorprendió la cena, si vas con media pensi...</td>\n",
              "      <td>reviews</td>\n",
              "      <td>0.136041</td>\n",
              "      <td>0.863959</td>\n",
              "      <td>human</td>\n",
              "      <td>human</td>\n",
              "      <td>human</td>\n",
              "    </tr>\n",
              "    <tr>\n",
              "      <th>2</th>\n",
              "      <td>17379</td>\n",
              "      <td>Servicio atento y magnificas vistas al rio.</td>\n",
              "      <td>reviews</td>\n",
              "      <td>0.548046</td>\n",
              "      <td>0.451954</td>\n",
              "      <td>generated</td>\n",
              "      <td>human</td>\n",
              "      <td>generated</td>\n",
              "    </tr>\n",
              "    <tr>\n",
              "      <th>3</th>\n",
              "      <td>5391</td>\n",
              "      <td>La Oficina Nacional de Estadísticas de China d...</td>\n",
              "      <td>news</td>\n",
              "      <td>0.580462</td>\n",
              "      <td>0.419538</td>\n",
              "      <td>generated</td>\n",
              "      <td>human</td>\n",
              "      <td>human</td>\n",
              "    </tr>\n",
              "    <tr>\n",
              "      <th>4</th>\n",
              "      <td>17310</td>\n",
              "      <td>Pero no puedes tener a una sola persona sirvie...</td>\n",
              "      <td>reviews</td>\n",
              "      <td>0.085232</td>\n",
              "      <td>0.914768</td>\n",
              "      <td>human</td>\n",
              "      <td>human</td>\n",
              "      <td>human</td>\n",
              "    </tr>\n",
              "    <tr>\n",
              "      <th>...</th>\n",
              "      <td>...</td>\n",
              "      <td>...</td>\n",
              "      <td>...</td>\n",
              "      <td>...</td>\n",
              "      <td>...</td>\n",
              "      <td>...</td>\n",
              "      <td>...</td>\n",
              "      <td>...</td>\n",
              "    </tr>\n",
              "    <tr>\n",
              "      <th>20124</th>\n",
              "      <td>11284</td>\n",
              "      <td>Pero no fue un problema para mí en absoluto! E...</td>\n",
              "      <td>reviews</td>\n",
              "      <td>0.963334</td>\n",
              "      <td>0.036666</td>\n",
              "      <td>generated</td>\n",
              "      <td>generated</td>\n",
              "      <td>generated</td>\n",
              "    </tr>\n",
              "    <tr>\n",
              "      <th>20125</th>\n",
              "      <td>11964</td>\n",
              "      <td>Para mí, no hay nada más importante en la vida...</td>\n",
              "      <td>reviews</td>\n",
              "      <td>0.983017</td>\n",
              "      <td>0.016983</td>\n",
              "      <td>generated</td>\n",
              "      <td>generated</td>\n",
              "      <td>generated</td>\n",
              "    </tr>\n",
              "    <tr>\n",
              "      <th>20126</th>\n",
              "      <td>5390</td>\n",
              "      <td>El sindicato Futbolistas Argentinos Agremiados...</td>\n",
              "      <td>news</td>\n",
              "      <td>0.875186</td>\n",
              "      <td>0.124814</td>\n",
              "      <td>generated</td>\n",
              "      <td>generated</td>\n",
              "      <td>human</td>\n",
              "    </tr>\n",
              "    <tr>\n",
              "      <th>20127</th>\n",
              "      <td>860</td>\n",
              "      <td>Incluso ahora se siente joven. Fidel Castro es...</td>\n",
              "      <td>news</td>\n",
              "      <td>0.877957</td>\n",
              "      <td>0.122043</td>\n",
              "      <td>generated</td>\n",
              "      <td>generated</td>\n",
              "      <td>human</td>\n",
              "    </tr>\n",
              "    <tr>\n",
              "      <th>20128</th>\n",
              "      <td>15795</td>\n",
              "      <td>Pelusillas y pelos en el suelo habitación. Col...</td>\n",
              "      <td>reviews</td>\n",
              "      <td>0.761292</td>\n",
              "      <td>0.238708</td>\n",
              "      <td>generated</td>\n",
              "      <td>human</td>\n",
              "      <td>generated</td>\n",
              "    </tr>\n",
              "  </tbody>\n",
              "</table>\n",
              "<p>20129 rows × 8 columns</p>\n",
              "</div>"
            ],
            "text/plain": [
              "          id                                               text   domain  \\\n",
              "0      17414  Buscábamos tranquilidad y la encontramos. Me t...  reviews   \n",
              "1      16938  Nos sorprendió la cena, si vas con media pensi...  reviews   \n",
              "2      17379        Servicio atento y magnificas vistas al rio.  reviews   \n",
              "3       5391  La Oficina Nacional de Estadísticas de China d...     news   \n",
              "4      17310  Pero no puedes tener a una sola persona sirvie...  reviews   \n",
              "...      ...                                                ...      ...   \n",
              "20124  11284  Pero no fue un problema para mí en absoluto! E...  reviews   \n",
              "20125  11964  Para mí, no hay nada más importante en la vida...  reviews   \n",
              "20126   5390  El sindicato Futbolistas Argentinos Agremiados...     news   \n",
              "20127    860  Incluso ahora se siente joven. Fidel Castro es...     news   \n",
              "20128  15795  Pelusillas y pelos en el suelo habitación. Col...  reviews   \n",
              "\n",
              "       label_lr_generated_proba  label_lr_human_proba label_lr_tunned_tr50  \\\n",
              "0                      0.743299              0.256701            generated   \n",
              "1                      0.136041              0.863959                human   \n",
              "2                      0.548046              0.451954            generated   \n",
              "3                      0.580462              0.419538            generated   \n",
              "4                      0.085232              0.914768                human   \n",
              "...                         ...                   ...                  ...   \n",
              "20124                  0.963334              0.036666            generated   \n",
              "20125                  0.983017              0.016983            generated   \n",
              "20126                  0.875186              0.124814            generated   \n",
              "20127                  0.877957              0.122043            generated   \n",
              "20128                  0.761292              0.238708            generated   \n",
              "\n",
              "      label_lr_tunned_tr80 label_svm_tr50  \n",
              "0                    human          human  \n",
              "1                    human          human  \n",
              "2                    human      generated  \n",
              "3                    human          human  \n",
              "4                    human          human  \n",
              "...                    ...            ...  \n",
              "20124            generated      generated  \n",
              "20125            generated      generated  \n",
              "20126            generated          human  \n",
              "20127            generated          human  \n",
              "20128                human      generated  \n",
              "\n",
              "[20129 rows x 8 columns]"
            ]
          },
          "execution_count": 189,
          "metadata": {},
          "output_type": "execute_result"
        }
      ],
      "source": [
        "df_test"
      ]
    }
  ],
  "metadata": {
    "colab": {
      "collapsed_sections": [
        "4rdBt5IxQfzj",
        "zWq2JehvVWk_",
        "k54tIctHVsYk",
        "BbYL4EugWZCe",
        "04-abUuQZKvj",
        "ryJZxqF4b8SI",
        "Ax_a_OlLc4LJ"
      ],
      "provenance": []
    },
    "kernelspec": {
      "display_name": "Python 3.9.12 ('base')",
      "language": "python",
      "name": "python3"
    },
    "language_info": {
      "codemirror_mode": {
        "name": "ipython",
        "version": 3
      },
      "file_extension": ".py",
      "mimetype": "text/x-python",
      "name": "python",
      "nbconvert_exporter": "python",
      "pygments_lexer": "ipython3",
      "version": "3.10.5"
    },
    "vscode": {
      "interpreter": {
        "hash": "ad2bdc8ecc057115af97d19610ffacc2b4e99fae6737bb82f5d7fb13d2f2c186"
      }
    }
  },
  "nbformat": 4,
  "nbformat_minor": 0
}
